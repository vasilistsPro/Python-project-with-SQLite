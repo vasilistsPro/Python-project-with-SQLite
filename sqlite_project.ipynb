{
 "cells": [
  {
   "cell_type": "code",
   "execution_count": null,
   "metadata": {},
   "outputs": [],
   "source": [
    "import sqlite3\n",
    "\n",
    "# here enter the path for the database\n",
    "conn = sqlite3.connect('...')"
   ]
  },
  {
   "cell_type": "code",
   "execution_count": null,
   "metadata": {},
   "outputs": [],
   "source": [
    "c = conn.cursor "
   ]
  },
  {
   "cell_type": "code",
   "execution_count": null,
   "metadata": {},
   "outputs": [],
   "source": [
    "c.execute(\"\"\"CREATE TABLE Manager (\n",
    "                MANAGER_ID INTEGER NOT NULL,\n",
    "                MANAGER_FNAME TEXT NOT NULL,\n",
    "                MANAGER_SNAME TEXT NOT NULL,\n",
    "                COMPANY_ID INTEGER NOT NULL,\n",
    "                JOIN_DATE TEXT NOT NULL)\"\"\")"
   ]
  },
  {
   "cell_type": "code",
   "execution_count": null,
   "metadata": {},
   "outputs": [],
   "source": [
    "c.execute(\"INSERT INTO Manager VALUES(1, 'Mike', 'Kane', 2, '2/10/1990')\")"
   ]
  },
  {
   "cell_type": "code",
   "execution_count": null,
   "metadata": {},
   "outputs": [],
   "source": [
    "all_managers = [(2, 'John', 'Vauser', 5, '3/7/1980'),\n",
    "                (3, 'Alex', 'Pope', 3, '1/9/2000'),\n",
    "                (4, 'Kate', 'Maxwell', 4, '22/11/1994'),\n",
    "                (5, 'Christine', 'Newton', 10, '9/9/2005'),\n",
    "                (6, 'Bill', 'Isaac', 11, '17/2/2005')]\n",
    "c.executemany (\"INSERT INTO Manager VALUES (?,?,?,?,?)\", all_managers)"
   ]
  },
  {
   "cell_type": "code",
   "execution_count": null,
   "metadata": {},
   "outputs": [],
   "source": [
    "c.execute(\"SELECT * FROM Manager\")\n",
    "print(c.fetchall())"
   ]
  },
  {
   "cell_type": "code",
   "execution_count": null,
   "metadata": {},
   "outputs": [],
   "source": [
    "c.execute(\"\"\"CREATE TABLE Companies (\n",
    "                COMPANY_ID INTEGER NOT NULL,\n",
    "                COMPANY_NAME TEXT NOT NULL)\"\"\")"
   ]
  },
  {
   "cell_type": "code",
   "execution_count": null,
   "metadata": {},
   "outputs": [],
   "source": [
    "all_companies = [(1, 'AEL'),\n",
    "                 (2, 'AEK'),\n",
    "                 (3, 'VOLTON'),\n",
    "                 (4, 'TOTAL'),\n",
    "                 (5, 'PETRONAS'),\n",
    "                 (6, 'FERRARI')]\n",
    "\n",
    "c.executemany (\"INSERT INTO Companies VALUES (?,?)\", all_companies)"
   ]
  },
  {
   "cell_type": "code",
   "execution_count": null,
   "metadata": {},
   "outputs": [],
   "source": [
    "c.execute(\"SELECT * FROM Comanies\")\n",
    "print(c.fetchall())"
   ]
  },
  {
   "cell_type": "code",
   "execution_count": null,
   "metadata": {},
   "outputs": [],
   "source": [
    "conn.commit()\n",
    "conn.close()"
   ]
  },
  {
   "cell_type": "code",
   "execution_count": null,
   "metadata": {},
   "outputs": [],
   "source": [
    "import pandas as pd\n",
    "df = pd.read_excel(\"...\")\n",
    "df"
   ]
  },
  {
   "cell_type": "code",
   "execution_count": null,
   "metadata": {},
   "outputs": [],
   "source": [
    "from sqlalchemy import create_engine\n",
    "engine = create_engine('sqlite://', echo = False)"
   ]
  },
  {
   "cell_type": "code",
   "execution_count": null,
   "metadata": {},
   "outputs": [],
   "source": [
    "df.to_sql(\"prsident\", con = engine)"
   ]
  },
  {
   "cell_type": "code",
   "execution_count": null,
   "metadata": {},
   "outputs": [],
   "source": [
    "from sqlalchemy import create_engine\n",
    "engine1 = create_engine(\"sqlite://mydb1.db\")\n",
    "df.to_sql(\"president\", engine1)"
   ]
  },
  {
   "cell_type": "code",
   "execution_count": null,
   "metadata": {},
   "outputs": [],
   "source": [
    "engine1.execute(\"SELECT * FROM president\").fetchall()"
   ]
  },
  {
   "cell_type": "code",
   "execution_count": null,
   "metadata": {},
   "outputs": [],
   "source": [
    "engine1.execute(\"INSERT INTO president VALUES (44, 45, 'Mixalis Zannis', 190)\")"
   ]
  },
  {
   "cell_type": "code",
   "execution_count": null,
   "metadata": {},
   "outputs": [],
   "source": [
    "all_president = [(45, 47, 'Grigoris Grigoriou', 170),\n",
    "                 (46, 48, 'Makis Ioakeim', 165),\n",
    "                 (47, 49, 'Marios Markou', 174)]\n",
    "engine1.execute(\"INSERT INTO president VALUES (?,?,?,?)\", all_president)"
   ]
  }
 ],
 "metadata": {
  "language_info": {
   "name": "python"
  }
 },
 "nbformat": 4,
 "nbformat_minor": 2
}
